{
 "cells": [
  {
   "cell_type": "markdown",
   "id": "8d7f2c83",
   "metadata": {},
   "source": [
    "### Load and read the Human GTF reference file in the Kernel"
   ]
  },
  {
   "cell_type": "code",
   "execution_count": 54,
   "id": "a008a9ea",
   "metadata": {},
   "outputs": [],
   "source": [
    "\n",
    "with open('Homo_sapiens.GRCh38.110.chr.gtf', 'rb') as f:\n",
    "    content = f.read()"
   ]
  },
  {
   "cell_type": "markdown",
   "id": "b9e9ac3a",
   "metadata": {},
   "source": [
    "### Split the gtf file based on each line"
   ]
  },
  {
   "cell_type": "code",
   "execution_count": 55,
   "id": "8f68e147",
   "metadata": {},
   "outputs": [],
   "source": [
    "lines = content.splitlines()"
   ]
  },
  {
   "cell_type": "markdown",
   "id": "4d895a5e",
   "metadata": {},
   "source": [
    "## From GTF to CSV"
   ]
  },
  {
   "cell_type": "code",
   "execution_count": 60,
   "id": "37ae6bdf",
   "metadata": {},
   "outputs": [],
   "source": [
    "import csv\n",
    "\n",
    "# Read the GTF file\n",
    "gtf_filename = 'Homo_sapiens.GRCh38.110.chr.gtf'\n",
    "csv_filename = 'human_gtf.csv'\n",
    "\n",
    "# Define the fields we want to extract from the GTF file\n",
    "fields = ['seqname', 'source', 'feature', 'start', 'end', 'score', 'strand', 'frame', 'attribute']\n",
    "\n",
    "# Open the GTF file for reading and the CSV file for writing\n",
    "with open(gtf_filename, 'r') as gtf_file, open(csv_filename, 'w', newline='') as csv_file:\n",
    "    gtf_reader = csv.reader(gtf_file, delimiter='\\t')\n",
    "    csv_writer = csv.writer(csv_file)\n",
    "\n",
    "    # Write CSV header\n",
    "    csv_writer.writerow(fields)\n",
    "\n",
    "    for line in gtf_reader:\n",
    "        if not line or line[0].startswith('#'):\n",
    "            continue\n",
    "\n",
    "        # Extract relevant fields from the GTF line\n",
    "        data = {\n",
    "            'seqname': line[0],\n",
    "            'source': line[1],\n",
    "            'feature': line[2],\n",
    "            'start': line[3],\n",
    "            'end': line[4],\n",
    "            'score': line[5],\n",
    "            'strand': line[6],\n",
    "            'frame': line[7],\n",
    "            'attribute': line[8]\n",
    "        }\n",
    "\n",
    "        # Write the extracted data to the CSV file\n",
    "        csv_writer.writerow([data[field] for field in fields])\n"
   ]
  },
  {
   "cell_type": "markdown",
   "id": "b3951deb",
   "metadata": {},
   "source": [
    "### Read the gtf in csv"
   ]
  },
  {
   "cell_type": "code",
   "execution_count": 63,
   "id": "7efb8e91",
   "metadata": {},
   "outputs": [],
   "source": [
    "import pandas as pd\n",
    "gtf = pd.read_csv('human_gtf.csv', low_memory = False)"
   ]
  },
  {
   "cell_type": "code",
   "execution_count": 64,
   "id": "7e822759",
   "metadata": {},
   "outputs": [
    {
     "data": {
      "text/html": [
       "<div>\n",
       "<style scoped>\n",
       "    .dataframe tbody tr th:only-of-type {\n",
       "        vertical-align: middle;\n",
       "    }\n",
       "\n",
       "    .dataframe tbody tr th {\n",
       "        vertical-align: top;\n",
       "    }\n",
       "\n",
       "    .dataframe thead th {\n",
       "        text-align: right;\n",
       "    }\n",
       "</style>\n",
       "<table border=\"1\" class=\"dataframe\">\n",
       "  <thead>\n",
       "    <tr style=\"text-align: right;\">\n",
       "      <th></th>\n",
       "      <th>seqname</th>\n",
       "      <th>source</th>\n",
       "      <th>feature</th>\n",
       "      <th>start</th>\n",
       "      <th>end</th>\n",
       "      <th>score</th>\n",
       "      <th>strand</th>\n",
       "      <th>frame</th>\n",
       "      <th>attribute</th>\n",
       "    </tr>\n",
       "  </thead>\n",
       "  <tbody>\n",
       "    <tr>\n",
       "      <th>0</th>\n",
       "      <td>1</td>\n",
       "      <td>havana</td>\n",
       "      <td>gene</td>\n",
       "      <td>182696</td>\n",
       "      <td>184174</td>\n",
       "      <td>.</td>\n",
       "      <td>+</td>\n",
       "      <td>.</td>\n",
       "      <td>gene_id \"ENSG00000279928\"; gene_version \"2\"; g...</td>\n",
       "    </tr>\n",
       "    <tr>\n",
       "      <th>1</th>\n",
       "      <td>1</td>\n",
       "      <td>havana</td>\n",
       "      <td>transcript</td>\n",
       "      <td>182696</td>\n",
       "      <td>184174</td>\n",
       "      <td>.</td>\n",
       "      <td>+</td>\n",
       "      <td>.</td>\n",
       "      <td>gene_id \"ENSG00000279928\"; gene_version \"2\"; t...</td>\n",
       "    </tr>\n",
       "    <tr>\n",
       "      <th>2</th>\n",
       "      <td>1</td>\n",
       "      <td>havana</td>\n",
       "      <td>exon</td>\n",
       "      <td>182696</td>\n",
       "      <td>182746</td>\n",
       "      <td>.</td>\n",
       "      <td>+</td>\n",
       "      <td>.</td>\n",
       "      <td>gene_id \"ENSG00000279928\"; gene_version \"2\"; t...</td>\n",
       "    </tr>\n",
       "    <tr>\n",
       "      <th>3</th>\n",
       "      <td>1</td>\n",
       "      <td>havana</td>\n",
       "      <td>exon</td>\n",
       "      <td>183132</td>\n",
       "      <td>183216</td>\n",
       "      <td>.</td>\n",
       "      <td>+</td>\n",
       "      <td>.</td>\n",
       "      <td>gene_id \"ENSG00000279928\"; gene_version \"2\"; t...</td>\n",
       "    </tr>\n",
       "    <tr>\n",
       "      <th>4</th>\n",
       "      <td>1</td>\n",
       "      <td>havana</td>\n",
       "      <td>exon</td>\n",
       "      <td>183494</td>\n",
       "      <td>183571</td>\n",
       "      <td>.</td>\n",
       "      <td>+</td>\n",
       "      <td>.</td>\n",
       "      <td>gene_id \"ENSG00000279928\"; gene_version \"2\"; t...</td>\n",
       "    </tr>\n",
       "  </tbody>\n",
       "</table>\n",
       "</div>"
      ],
      "text/plain": [
       "  seqname  source     feature   start     end score strand frame  \\\n",
       "0       1  havana        gene  182696  184174     .      +     .   \n",
       "1       1  havana  transcript  182696  184174     .      +     .   \n",
       "2       1  havana        exon  182696  182746     .      +     .   \n",
       "3       1  havana        exon  183132  183216     .      +     .   \n",
       "4       1  havana        exon  183494  183571     .      +     .   \n",
       "\n",
       "                                           attribute  \n",
       "0  gene_id \"ENSG00000279928\"; gene_version \"2\"; g...  \n",
       "1  gene_id \"ENSG00000279928\"; gene_version \"2\"; t...  \n",
       "2  gene_id \"ENSG00000279928\"; gene_version \"2\"; t...  \n",
       "3  gene_id \"ENSG00000279928\"; gene_version \"2\"; t...  \n",
       "4  gene_id \"ENSG00000279928\"; gene_version \"2\"; t...  "
      ]
     },
     "execution_count": 64,
     "metadata": {},
     "output_type": "execute_result"
    }
   ],
   "source": [
    "gtf.head()"
   ]
  },
  {
   "cell_type": "markdown",
   "id": "03606e6b",
   "metadata": {},
   "source": [
    "### Extract the transcript Id from the attribute columns using lambda function "
   ]
  },
  {
   "cell_type": "code",
   "execution_count": 77,
   "id": "7f12e181",
   "metadata": {},
   "outputs": [],
   "source": [
    "gtf['transcript_id']  = gtf['attribute'].apply(lambda x: x.split(';')[2].split('\"')[1])"
   ]
  },
  {
   "cell_type": "markdown",
   "id": "bcbccea4",
   "metadata": {},
   "source": [
    "### Extact gene Id from the attribute using lambda function"
   ]
  },
  {
   "cell_type": "code",
   "execution_count": 94,
   "id": "5e3c8288",
   "metadata": {},
   "outputs": [],
   "source": [
    "gtf['gene_id'] = gtf['attribute'].apply(lambda x : x.split(';')[0].split('\"')[1])"
   ]
  },
  {
   "cell_type": "markdown",
   "id": "8e687279",
   "metadata": {},
   "source": [
    "### To get the transcript data from the whole gtf data "
   ]
  },
  {
   "cell_type": "code",
   "execution_count": 122,
   "id": "436e103b",
   "metadata": {},
   "outputs": [],
   "source": [
    "transcript = gtf[gtf['feature'] == 'transcript' ]"
   ]
  },
  {
   "cell_type": "markdown",
   "id": "9329e17e",
   "metadata": {},
   "source": [
    "### Add a new column called total bases in the transcript dataset"
   ]
  },
  {
   "cell_type": "code",
   "execution_count": 123,
   "id": "decc5b7c",
   "metadata": {},
   "outputs": [
    {
     "name": "stderr",
     "output_type": "stream",
     "text": [
      "C:\\Users\\dell\\AppData\\Local\\Temp\\ipykernel_7180\\3672950776.py:1: SettingWithCopyWarning: \n",
      "A value is trying to be set on a copy of a slice from a DataFrame.\n",
      "Try using .loc[row_indexer,col_indexer] = value instead\n",
      "\n",
      "See the caveats in the documentation: https://pandas.pydata.org/pandas-docs/stable/user_guide/indexing.html#returning-a-view-versus-a-copy\n",
      "  transcript['total_bases'] = (transcript['end'] - transcript['start'] + 1)\n"
     ]
    }
   ],
   "source": [
    "transcript['total_bases'] = (transcript['end'] - transcript['start'] + 1)"
   ]
  },
  {
   "cell_type": "markdown",
   "id": "ec0d70d9",
   "metadata": {},
   "source": [
    "### Save the the transcript reference data into csv format in the local memory"
   ]
  },
  {
   "cell_type": "code",
   "execution_count": 131,
   "id": "2ac5528c",
   "metadata": {},
   "outputs": [],
   "source": [
    "transcript.to_csv('transcript_human_ref.csv')"
   ]
  },
  {
   "cell_type": "code",
   "execution_count": null,
   "id": "36648fb8",
   "metadata": {},
   "outputs": [],
   "source": []
  }
 ],
 "metadata": {
  "kernelspec": {
   "display_name": "Python 3 (ipykernel)",
   "language": "python",
   "name": "python3"
  },
  "language_info": {
   "codemirror_mode": {
    "name": "ipython",
    "version": 3
   },
   "file_extension": ".py",
   "mimetype": "text/x-python",
   "name": "python",
   "nbconvert_exporter": "python",
   "pygments_lexer": "ipython3",
   "version": "3.11.4"
  }
 },
 "nbformat": 4,
 "nbformat_minor": 5
}
