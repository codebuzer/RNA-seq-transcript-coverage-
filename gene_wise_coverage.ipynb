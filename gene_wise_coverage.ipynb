{
 "cells": [
  {
   "cell_type": "code",
   "execution_count": 2,
   "id": "183d08b1",
   "metadata": {},
   "outputs": [],
   "source": [
    "import pysam\n",
    "import time\n",
    "import pandas as pd\n",
    "import numpy as np\n",
    "import subprocess\n",
    "import pandas as pd"
   ]
  },
  {
   "cell_type": "code",
   "execution_count": 3,
   "id": "b99d6f2d",
   "metadata": {},
   "outputs": [],
   "source": [
    "df = pd.read_csv(\"gtffile.csv\", index_col = 0, low_memory = False)"
   ]
  },
  {
   "cell_type": "code",
   "execution_count": 4,
   "id": "2bf02b31",
   "metadata": {},
   "outputs": [],
   "source": [
    "def calculate_gene_coverage(bam_file, df):\n",
    "    total_time_start = time.time()\n",
    "    print(\"Indexing\", {bam_file})\n",
    "    index_start_time = time.time()\n",
    "    subprocess.run([\"samtools\", \"index\", bam_file])\n",
    "    index_end_time = time.time()\n",
    "    print('Indexing take', index_end_time - index_start_time, \"Seconds\")\n",
    "    print('Indexing Done!')\n",
    "    print(\"Now Aligning\", {bam_file})\n",
    "    bam_proc_start = time.time()\n",
    "    bam = pysam.AlignmentFile(bam_file, \"rb\")\n",
    "    bam_proc_end = time.time()\n",
    "    print({bam_file}, 'Aligning take',bam_proc_end - bam_proc_start, 'seconds' )\n",
    "    print('I know you are running out of time but keep calm and Sit back we are working...')\n",
    "    coverage_data = []\n",
    "    start_count_coverage = time.time()\n",
    "    print(f\"Processing {bam_file}\")\n",
    "    \n",
    "    \n",
    "    for _, gene in df.iterrows():\n",
    "        chrom = gene['Region']\n",
    "        start = gene['Start']\n",
    "        end = gene['End']\n",
    "        region = end - start + 1\n",
    "        coverage = bam.count_coverage(chrom, start, end)\n",
    "        \n",
    "        covbases = sum(sum(depth >= 1 for depth in depth_array) for depth_array in coverage)\n",
    "        covpercent = (covbases / region) * 100\n",
    "\n",
    "        gene_name = gene['Description'].split(\";\")[0].split(\" \")[1].replace('\"', '')\n",
    "        \n",
    "        # Adjust covbases and covpercent if necessary\n",
    "        covbases = np.where(covbases > region, region, covbases)\n",
    "        covpercent = np.where(covpercent > 100, 100.0, covpercent)\n",
    "        \n",
    "        coverage_data.append((gene_name, chrom, start, end, covbases, covpercent))\n",
    "    end_count_coverage = time.time()\n",
    "    print('Counting coverage took', end_count_coverage - start_count_coverage, 'seconds')\n",
    "        \n",
    "    df = pd.DataFrame(coverage_data, columns=['Gene', 'Chromosome', 'Start', 'End', 'CovBases', 'CovPercent'])\n",
    "    bam.close()\n",
    "    \n",
    "    print(\"Gene coverage calculation completed.\")\n",
    "    total_time_end = time.time()\n",
    "    print(\"Total time taken to execute this entire process :\", total_time_end - total_time_start, 'seconds')\n",
    "    df.to_csv(bam_file.split('.')[0] + 'OM_gene_wise_coverage.csv')\n",
    "\n",
    "\n",
    "    return df\n",
    "\n"
   ]
  },
  {
   "cell_type": "code",
   "execution_count": 5,
   "id": "c8f1bb73",
   "metadata": {},
   "outputs": [],
   "source": [
    "bam_file ='/home/abuzarkhan_123/Gene Wise Coverage Using Pysam/done/IGIB1130806804.bam'"
   ]
  },
  {
   "cell_type": "code",
   "execution_count": 7,
   "id": "af4f7308",
   "metadata": {},
   "outputs": [
    {
     "name": "stdout",
     "output_type": "stream",
     "text": [
      "Indexing {'/home/abuzarkhan_123/Gene Wise Coverage Using Pysam/done/IGIB1130806804.bam'}\n",
      "Indexing take 0.643240213394165 Seconds\n",
      "Indexing Done!\n",
      "Now Aligning {'/home/abuzarkhan_123/Gene Wise Coverage Using Pysam/done/IGIB1130806804.bam'}\n",
      "{'/home/abuzarkhan_123/Gene Wise Coverage Using Pysam/done/IGIB1130806804.bam'} Aligning take 0.007635354995727539 seconds\n",
      "I know you are running out of time but keep calm and Sit back we are working...\n",
      "Processing /home/abuzarkhan_123/Gene Wise Coverage Using Pysam/done/IGIB1130806804.bam\n",
      "Counting coverage took 1855.3561754226685 seconds\n",
      "Gene coverage calculation completed.\n",
      "Total time taken to execute this entire process : 1857.587964296341 seconds\n"
     ]
    }
   ],
   "source": [
    "df_om = calculate_gene_coverage(bam_file,df)"
   ]
  },
  {
   "cell_type": "code",
   "execution_count": 9,
   "id": "6bdf24dd",
   "metadata": {},
   "outputs": [],
   "source": [
    "df_om.to_csv('IGIB1130806804_gene_Wise_coverage.csv')"
   ]
  },
  {
   "cell_type": "code",
   "execution_count": 15,
   "id": "e32a2681",
   "metadata": {},
   "outputs": [],
   "source": [
    "#bam_file = \"IGIB1130412732V.bam\"\n",
    "#result_df = calculate_gene_coverage(bam_file, df)\n",
    "#result_df.to_csv('IGIB1130412732V_gene_wise_coverage.csv')\n",
    "#"
   ]
  },
  {
   "cell_type": "code",
   "execution_count": 12,
   "id": "68ac3979",
   "metadata": {},
   "outputs": [],
   "source": [
    "import os\n",
    "directory = \"/home/abuzarkhan_123/Gene Wise Coverage Using Pysam/done\"\n",
    "bam_files = [file_name for file_name in os.listdir(directory) if file_name.endswith(\".bam\")]\n",
    "\n",
    "\n"
   ]
  },
  {
   "cell_type": "code",
   "execution_count": 13,
   "id": "fe0def02",
   "metadata": {},
   "outputs": [
    {
     "data": {
      "text/plain": [
       "['IGIB1130371022V.bam',\n",
       " 'IGIB113094002V.bam',\n",
       " 'IGIB113050041V.bam',\n",
       " 'IGIB1130519238V.bam',\n",
       " 'IGIB113023885V.bam',\n",
       " 'IGIB1130111V.bam']"
      ]
     },
     "execution_count": 13,
     "metadata": {},
     "output_type": "execute_result"
    }
   ],
   "source": [
    "bam_files "
   ]
  },
  {
   "cell_type": "code",
   "execution_count": null,
   "id": "140fb5fc",
   "metadata": {},
   "outputs": [
    {
     "name": "stdout",
     "output_type": "stream",
     "text": [
      "Indexing {'IGIB1130371022V.bam'}\n",
      "Indexing take 8.262508869171143 Seconds\n",
      "Indexing Done!\n",
      "Now Aligning {'IGIB1130371022V.bam'}\n",
      "{'IGIB1130371022V.bam'} Aligning take 0.004045009613037109 seconds\n",
      "I know you are running out of time but keep calm and Sit back we are working...\n",
      "Processing IGIB1130371022V.bam\n"
     ]
    }
   ],
   "source": [
    "for bam_file in bam_files:\n",
    "    bam_path = os.path.join(directory, bam_file)\n",
    "\n",
    "    # Call the function x with the BAM and GTF file paths\n",
    "    result_df = calculate_gene_coverage(bam_file, df)\n"
   ]
  },
  {
   "cell_type": "code",
   "execution_count": 20,
   "id": "53178b41",
   "metadata": {},
   "outputs": [
    {
     "data": {
      "text/html": [
       "<div>\n",
       "<style scoped>\n",
       "    .dataframe tbody tr th:only-of-type {\n",
       "        vertical-align: middle;\n",
       "    }\n",
       "\n",
       "    .dataframe tbody tr th {\n",
       "        vertical-align: top;\n",
       "    }\n",
       "\n",
       "    .dataframe thead th {\n",
       "        text-align: right;\n",
       "    }\n",
       "</style>\n",
       "<table border=\"1\" class=\"dataframe\">\n",
       "  <thead>\n",
       "    <tr style=\"text-align: right;\">\n",
       "      <th></th>\n",
       "      <th>Gene</th>\n",
       "      <th>Chromosome</th>\n",
       "      <th>Start</th>\n",
       "      <th>End</th>\n",
       "      <th>CovBases</th>\n",
       "      <th>CovPercent</th>\n",
       "    </tr>\n",
       "  </thead>\n",
       "  <tbody>\n",
       "    <tr>\n",
       "      <th>0</th>\n",
       "      <td>ENSG00000186827</td>\n",
       "      <td>1</td>\n",
       "      <td>1211340</td>\n",
       "      <td>1214153</td>\n",
       "      <td>583</td>\n",
       "      <td>20.717839374555794</td>\n",
       "    </tr>\n",
       "    <tr>\n",
       "      <th>1</th>\n",
       "      <td>ENSG00000186827</td>\n",
       "      <td>1</td>\n",
       "      <td>1211340</td>\n",
       "      <td>1214153</td>\n",
       "      <td>583</td>\n",
       "      <td>20.717839374555794</td>\n",
       "    </tr>\n",
       "    <tr>\n",
       "      <th>2</th>\n",
       "      <td>ENSG00000186827</td>\n",
       "      <td>1</td>\n",
       "      <td>1213983</td>\n",
       "      <td>1214153</td>\n",
       "      <td>0</td>\n",
       "      <td>0.0</td>\n",
       "    </tr>\n",
       "    <tr>\n",
       "      <th>3</th>\n",
       "      <td>ENSG00000186827</td>\n",
       "      <td>1</td>\n",
       "      <td>1213983</td>\n",
       "      <td>1214127</td>\n",
       "      <td>0</td>\n",
       "      <td>0.0</td>\n",
       "    </tr>\n",
       "    <tr>\n",
       "      <th>4</th>\n",
       "      <td>ENSG00000186827</td>\n",
       "      <td>1</td>\n",
       "      <td>1214125</td>\n",
       "      <td>1214127</td>\n",
       "      <td>0</td>\n",
       "      <td>0.0</td>\n",
       "    </tr>\n",
       "    <tr>\n",
       "      <th>...</th>\n",
       "      <td>...</td>\n",
       "      <td>...</td>\n",
       "      <td>...</td>\n",
       "      <td>...</td>\n",
       "      <td>...</td>\n",
       "      <td>...</td>\n",
       "    </tr>\n",
       "    <tr>\n",
       "      <th>3276509</th>\n",
       "      <td>ENSG00000277475</td>\n",
       "      <td>KI270713.1</td>\n",
       "      <td>32373</td>\n",
       "      <td>32528</td>\n",
       "      <td>127</td>\n",
       "      <td>81.41025641025641</td>\n",
       "    </tr>\n",
       "    <tr>\n",
       "      <th>3276510</th>\n",
       "      <td>ENSG00000277475</td>\n",
       "      <td>KI270713.1</td>\n",
       "      <td>31698</td>\n",
       "      <td>31841</td>\n",
       "      <td>0</td>\n",
       "      <td>0.0</td>\n",
       "    </tr>\n",
       "    <tr>\n",
       "      <th>3276511</th>\n",
       "      <td>ENSG00000275405</td>\n",
       "      <td>KI270713.1</td>\n",
       "      <td>21861</td>\n",
       "      <td>22024</td>\n",
       "      <td>141</td>\n",
       "      <td>85.97560975609755</td>\n",
       "    </tr>\n",
       "    <tr>\n",
       "      <th>3276512</th>\n",
       "      <td>ENSG00000275405</td>\n",
       "      <td>KI270713.1</td>\n",
       "      <td>21861</td>\n",
       "      <td>22024</td>\n",
       "      <td>141</td>\n",
       "      <td>85.97560975609755</td>\n",
       "    </tr>\n",
       "    <tr>\n",
       "      <th>3276513</th>\n",
       "      <td>ENSG00000275405</td>\n",
       "      <td>KI270713.1</td>\n",
       "      <td>21861</td>\n",
       "      <td>22024</td>\n",
       "      <td>141</td>\n",
       "      <td>85.97560975609755</td>\n",
       "    </tr>\n",
       "  </tbody>\n",
       "</table>\n",
       "<p>3276514 rows × 6 columns</p>\n",
       "</div>"
      ],
      "text/plain": [
       "                    Gene  Chromosome    Start      End CovBases   \n",
       "0        ENSG00000186827           1  1211340  1214153      583  \\\n",
       "1        ENSG00000186827           1  1211340  1214153      583   \n",
       "2        ENSG00000186827           1  1213983  1214153        0   \n",
       "3        ENSG00000186827           1  1213983  1214127        0   \n",
       "4        ENSG00000186827           1  1214125  1214127        0   \n",
       "...                  ...         ...      ...      ...      ...   \n",
       "3276509  ENSG00000277475  KI270713.1    32373    32528      127   \n",
       "3276510  ENSG00000277475  KI270713.1    31698    31841        0   \n",
       "3276511  ENSG00000275405  KI270713.1    21861    22024      141   \n",
       "3276512  ENSG00000275405  KI270713.1    21861    22024      141   \n",
       "3276513  ENSG00000275405  KI270713.1    21861    22024      141   \n",
       "\n",
       "                 CovPercent  \n",
       "0        20.717839374555794  \n",
       "1        20.717839374555794  \n",
       "2                       0.0  \n",
       "3                       0.0  \n",
       "4                       0.0  \n",
       "...                     ...  \n",
       "3276509   81.41025641025641  \n",
       "3276510                 0.0  \n",
       "3276511   85.97560975609755  \n",
       "3276512   85.97560975609755  \n",
       "3276513   85.97560975609755  \n",
       "\n",
       "[3276514 rows x 6 columns]"
      ]
     },
     "execution_count": 20,
     "metadata": {},
     "output_type": "execute_result"
    }
   ],
   "source": [
    "result_df"
   ]
  },
  {
   "cell_type": "code",
   "execution_count": 19,
   "id": "314b6800",
   "metadata": {},
   "outputs": [
    {
     "data": {
      "text/plain": [
       "'/home/abuzarkhan_123/Gene Wise Coverage Using Pysam/done'"
      ]
     },
     "execution_count": 19,
     "metadata": {},
     "output_type": "execute_result"
    }
   ],
   "source": [
    "os.getcwd()"
   ]
  },
  {
   "cell_type": "code",
   "execution_count": null,
   "id": "83480242",
   "metadata": {},
   "outputs": [],
   "source": []
  }
 ],
 "metadata": {
  "kernelspec": {
   "display_name": "Python 3 (ipykernel)",
   "language": "python",
   "name": "python3"
  },
  "language_info": {
   "codemirror_mode": {
    "name": "ipython",
    "version": 3
   },
   "file_extension": ".py",
   "mimetype": "text/x-python",
   "name": "python",
   "nbconvert_exporter": "python",
   "pygments_lexer": "ipython3",
   "version": "3.10.11"
  }
 },
 "nbformat": 4,
 "nbformat_minor": 5
}
